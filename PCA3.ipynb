{
  "nbformat": 4,
  "nbformat_minor": 0,
  "metadata": {
    "colab": {
      "name": "PCA3.ipynb",
      "provenance": [],
      "collapsed_sections": [],
      "authorship_tag": "ABX9TyOLzUFOkrlfE3GQ7yW56bL1"
    },
    "kernelspec": {
      "name": "python3",
      "display_name": "Python 3"
    },
    "language_info": {
      "name": "python"
    }
  },
  "cells": [
    {
      "cell_type": "markdown",
      "metadata": {
        "id": "qweLdYa7PNu9"
      },
      "source": [
        "# sklearn使用"
      ]
    },
    {
      "cell_type": "code",
      "metadata": {
        "id": "Wij0HxZC5RZ5"
      },
      "source": [
        "import numpy as np\n",
        "import pandas as pd\n",
        "import sklearn\n",
        "from sklearn.decomposition import PCA \n",
        "from sklearn import datasets\n",
        "import sympy as sy\n",
        "from sklearn.preprocessing import StandardScaler"
      ],
      "execution_count": 1,
      "outputs": []
    },
    {
      "cell_type": "code",
      "metadata": {
        "colab": {
          "base_uri": "https://localhost:8080/",
          "height": 128
        },
        "id": "SnI5etwo5h0Y",
        "outputId": "43b0bf6d-b55f-4c0b-e14f-7829bb483f39"
      },
      "source": [
        "iris = datasets.load_wine()\n",
        "X = iris.data\n",
        "ss = StandardScaler()\n",
        "X_std = ss.fit_transform(X)\n",
        "y = iris.target\n",
        "pca = PCA(n_components=2) \n",
        "X_pca = pca.fit_transform(X_std)\n",
        "\n",
        "# PCA の固有値\n",
        "print(f\"固有値：{pca.explained_variance_}\")\n",
        "\n",
        "# PCA の固有ベクトル\n",
        "pd.DataFrame(pca.components_, columns=iris.feature_names, index = [\"PCA1\",\"PCA2\"])"
      ],
      "execution_count": 2,
      "outputs": [
        {
          "output_type": "stream",
          "name": "stdout",
          "text": [
            "固有値：[4.73243698 2.51108093]\n"
          ]
        },
        {
          "output_type": "execute_result",
          "data": {
            "text/html": [
              "<div>\n",
              "<style scoped>\n",
              "    .dataframe tbody tr th:only-of-type {\n",
              "        vertical-align: middle;\n",
              "    }\n",
              "\n",
              "    .dataframe tbody tr th {\n",
              "        vertical-align: top;\n",
              "    }\n",
              "\n",
              "    .dataframe thead th {\n",
              "        text-align: right;\n",
              "    }\n",
              "</style>\n",
              "<table border=\"1\" class=\"dataframe\">\n",
              "  <thead>\n",
              "    <tr style=\"text-align: right;\">\n",
              "      <th></th>\n",
              "      <th>alcohol</th>\n",
              "      <th>malic_acid</th>\n",
              "      <th>ash</th>\n",
              "      <th>alcalinity_of_ash</th>\n",
              "      <th>magnesium</th>\n",
              "      <th>total_phenols</th>\n",
              "      <th>flavanoids</th>\n",
              "      <th>nonflavanoid_phenols</th>\n",
              "      <th>proanthocyanins</th>\n",
              "      <th>color_intensity</th>\n",
              "      <th>hue</th>\n",
              "      <th>od280/od315_of_diluted_wines</th>\n",
              "      <th>proline</th>\n",
              "    </tr>\n",
              "  </thead>\n",
              "  <tbody>\n",
              "    <tr>\n",
              "      <th>PCA1</th>\n",
              "      <td>0.144329</td>\n",
              "      <td>-0.245188</td>\n",
              "      <td>-0.002051</td>\n",
              "      <td>-0.239320</td>\n",
              "      <td>0.141992</td>\n",
              "      <td>0.394661</td>\n",
              "      <td>0.422934</td>\n",
              "      <td>-0.298533</td>\n",
              "      <td>0.313429</td>\n",
              "      <td>-0.088617</td>\n",
              "      <td>0.296715</td>\n",
              "      <td>0.376167</td>\n",
              "      <td>0.286752</td>\n",
              "    </tr>\n",
              "    <tr>\n",
              "      <th>PCA2</th>\n",
              "      <td>-0.483652</td>\n",
              "      <td>-0.224931</td>\n",
              "      <td>-0.316069</td>\n",
              "      <td>0.010591</td>\n",
              "      <td>-0.299634</td>\n",
              "      <td>-0.065040</td>\n",
              "      <td>0.003360</td>\n",
              "      <td>-0.028779</td>\n",
              "      <td>-0.039302</td>\n",
              "      <td>-0.529996</td>\n",
              "      <td>0.279235</td>\n",
              "      <td>0.164496</td>\n",
              "      <td>-0.364903</td>\n",
              "    </tr>\n",
              "  </tbody>\n",
              "</table>\n",
              "</div>"
            ],
            "text/plain": [
              "       alcohol  malic_acid  ...  od280/od315_of_diluted_wines   proline\n",
              "PCA1  0.144329   -0.245188  ...                      0.376167  0.286752\n",
              "PCA2 -0.483652   -0.224931  ...                      0.164496 -0.364903\n",
              "\n",
              "[2 rows x 13 columns]"
            ]
          },
          "metadata": {},
          "execution_count": 2
        }
      ]
    },
    {
      "cell_type": "markdown",
      "metadata": {
        "id": "FCHmnmSrPTn3"
      },
      "source": [
        "# スクラッチ"
      ]
    },
    {
      "cell_type": "code",
      "metadata": {
        "colab": {
          "base_uri": "https://localhost:8080/",
          "height": 128
        },
        "id": "OGeRFd20Azmc",
        "outputId": "821c6569-c2a0-491e-f772-4b9c23beb541"
      },
      "source": [
        "cov_mat = np.cov(X_std.T)\n",
        "eigen_vals, eigen_vecs = np.linalg.eig(cov_mat)\n",
        "\n",
        "# Make a list of (eigenvalue, eigenvector) tuples\n",
        "eigen_pairs = [(np.abs(eigen_vals[i]), eigen_vecs[:, i])  for i in range(len(eigen_vals))]\n",
        "\n",
        "# Sort the (eigenvalue, eigenvector) tuples from high to low\n",
        "eigen_pairs.sort(key=lambda k: k[0], reverse=True)\n",
        "\n",
        "w = np.hstack((eigen_pairs[0][1][:, np.newaxis],\n",
        "               eigen_pairs[1][1][:, np.newaxis]))\n",
        "\n",
        "X_pca = X_std @ w\n",
        "\n",
        "# PCA の固有値\n",
        "print(f\"固有値：{eigen_pairs[0][0]}, {eigen_pairs[1][0]}\")\n",
        "\n",
        "# PCA の固有ベクトル\n",
        "pd.DataFrame(w.T, columns=iris.feature_names, index = [\"PCA1\",\"PCA2\"])"
      ],
      "execution_count": 4,
      "outputs": [
        {
          "output_type": "stream",
          "name": "stdout",
          "text": [
            "固有値：4.732436977583596, 2.5110809296451224\n"
          ]
        },
        {
          "output_type": "execute_result",
          "data": {
            "text/html": [
              "<div>\n",
              "<style scoped>\n",
              "    .dataframe tbody tr th:only-of-type {\n",
              "        vertical-align: middle;\n",
              "    }\n",
              "\n",
              "    .dataframe tbody tr th {\n",
              "        vertical-align: top;\n",
              "    }\n",
              "\n",
              "    .dataframe thead th {\n",
              "        text-align: right;\n",
              "    }\n",
              "</style>\n",
              "<table border=\"1\" class=\"dataframe\">\n",
              "  <thead>\n",
              "    <tr style=\"text-align: right;\">\n",
              "      <th></th>\n",
              "      <th>alcohol</th>\n",
              "      <th>malic_acid</th>\n",
              "      <th>ash</th>\n",
              "      <th>alcalinity_of_ash</th>\n",
              "      <th>magnesium</th>\n",
              "      <th>total_phenols</th>\n",
              "      <th>flavanoids</th>\n",
              "      <th>nonflavanoid_phenols</th>\n",
              "      <th>proanthocyanins</th>\n",
              "      <th>color_intensity</th>\n",
              "      <th>hue</th>\n",
              "      <th>od280/od315_of_diluted_wines</th>\n",
              "      <th>proline</th>\n",
              "    </tr>\n",
              "  </thead>\n",
              "  <tbody>\n",
              "    <tr>\n",
              "      <th>PCA1</th>\n",
              "      <td>-0.144329</td>\n",
              "      <td>0.245188</td>\n",
              "      <td>0.002051</td>\n",
              "      <td>0.239320</td>\n",
              "      <td>-0.141992</td>\n",
              "      <td>-0.394661</td>\n",
              "      <td>-0.422934</td>\n",
              "      <td>0.298533</td>\n",
              "      <td>-0.313429</td>\n",
              "      <td>0.088617</td>\n",
              "      <td>-0.296715</td>\n",
              "      <td>-0.376167</td>\n",
              "      <td>-0.286752</td>\n",
              "    </tr>\n",
              "    <tr>\n",
              "      <th>PCA2</th>\n",
              "      <td>0.483652</td>\n",
              "      <td>0.224931</td>\n",
              "      <td>0.316069</td>\n",
              "      <td>-0.010591</td>\n",
              "      <td>0.299634</td>\n",
              "      <td>0.065040</td>\n",
              "      <td>-0.003360</td>\n",
              "      <td>0.028779</td>\n",
              "      <td>0.039302</td>\n",
              "      <td>0.529996</td>\n",
              "      <td>-0.279235</td>\n",
              "      <td>-0.164496</td>\n",
              "      <td>0.364903</td>\n",
              "    </tr>\n",
              "  </tbody>\n",
              "</table>\n",
              "</div>"
            ],
            "text/plain": [
              "       alcohol  malic_acid  ...  od280/od315_of_diluted_wines   proline\n",
              "PCA1 -0.144329    0.245188  ...                     -0.376167 -0.286752\n",
              "PCA2  0.483652    0.224931  ...                     -0.164496  0.364903\n",
              "\n",
              "[2 rows x 13 columns]"
            ]
          },
          "metadata": {},
          "execution_count": 4
        }
      ]
    },
    {
      "cell_type": "markdown",
      "metadata": {
        "id": "B25N3FPcPHhL"
      },
      "source": [
        "参考\n",
        "https://qiita.com/maskot1977/items/082557fcda78c4cdb41f#%E3%83%87%E3%83%BC%E3%82%BF%E3%81%AE%E8%AA%AD%E3%81%BF%E8%BE%BC%E3%81%BF%E3%81%A8%E7%A2%BA%E8%AA%8D\n",
        "\n",
        "https://www.robonchu.info/entry/2017/10/16/220705#%E6%96%B0%E3%81%97%E3%81%84%E7%89%B9%E5%BE%B4%E7%A9%BA%E9%96%93%E3%81%AB%E3%82%B5%E3%83%B3%E3%83%97%E3%83%AB%E3%82%92%E5%B0%84%E5%BD%B1"
      ]
    }
  ]
}