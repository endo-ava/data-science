{
  "nbformat": 4,
  "nbformat_minor": 0,
  "metadata": {
    "colab": {
      "name": "KNN.ipynb",
      "provenance": [],
      "authorship_tag": "ABX9TyPpcetuh0Wl2ZhLExJE4Ln3"
    },
    "kernelspec": {
      "name": "python3",
      "display_name": "Python 3"
    },
    "language_info": {
      "name": "python"
    }
  },
  "cells": [
    {
      "cell_type": "markdown",
      "metadata": {
        "id": "MolwgMJ3486C"
      },
      "source": [
        "# **KNN(k近傍法，k-nearest neighbor)** \n",
        "特徴空間における最も近い訓練例に基づいた分類の手法であり、パターン認識でよく使われる。最近傍探索問題の一つ。k近傍法は、インスタンスに基づく学習の一種であり、怠惰学習（lazy learning） の一種である。その関数は局所的な近似に過ぎず、全ての計算は分類時まで後回しにされる。また、回帰分析にも使われる。（Wikipedia）"
      ]
    },
    {
      "cell_type": "markdown",
      "metadata": {
        "id": "wxkIzvCJsFJN"
      },
      "source": [
        "## **データの準備（iris-dataset）**"
      ]
    },
    {
      "cell_type": "code",
      "metadata": {
        "colab": {
          "base_uri": "https://localhost:8080/"
        },
        "id": "va06MN4NbNmj",
        "outputId": "d5a10275-7a1b-4510-efde-aa468adb8098"
      },
      "source": [
        "from sklearn.datasets import load_iris\n",
        "import pandas as pd\n",
        "import numpy as np\n",
        "from sklearn.metrics import accuracy_score\n",
        "from sklearn.model_selection import train_test_split\n",
        "from sklearn.neighbors import KNeighborsClassifier\n",
        "\n",
        "iris = load_iris()\n",
        "iris_df = pd.DataFrame(data=iris.data, index=iris.target, columns=iris.feature_names)\n",
        "\n",
        "X_train, X_test, y_train, y_test = train_test_split(iris.data, iris.target, test_size=0.3, random_state=1)\n",
        "iris.data.shape"
      ],
      "execution_count": 1,
      "outputs": [
        {
          "output_type": "execute_result",
          "data": {
            "text/plain": [
              "(150, 4)"
            ]
          },
          "metadata": {},
          "execution_count": 1
        }
      ]
    },
    {
      "cell_type": "markdown",
      "metadata": {
        "id": "Y2JYGmwsrNhi"
      },
      "source": [
        "## **①sklearn** "
      ]
    },
    {
      "cell_type": "code",
      "metadata": {
        "colab": {
          "base_uri": "https://localhost:8080/"
        },
        "id": "BcBNQSj4l4iA",
        "outputId": "ba932035-14b5-466f-f3c7-ed0f5d1783b3"
      },
      "source": [
        "knn = KNeighborsClassifier(n_neighbors=6)\n",
        "knn.fit(X_train, y_train)\n",
        "\n",
        "print(f\"accuracy_score:{knn.score(X_test, y_test)}\")"
      ],
      "execution_count": 2,
      "outputs": [
        {
          "output_type": "stream",
          "name": "stdout",
          "text": [
            "accuracy_score:0.9777777777777777\n"
          ]
        }
      ]
    },
    {
      "cell_type": "code",
      "metadata": {
        "colab": {
          "base_uri": "https://localhost:8080/",
          "height": 285
        },
        "id": "vgPBH1OGpXgG",
        "outputId": "13007016-df2c-4b95-e217-3447d8bf1223"
      },
      "source": [
        "# kの値によるaccuracyの変化\n",
        "\n",
        "import matplotlib.pyplot as plt\n",
        "import seaborn as sns\n",
        "\n",
        "accuracy_list = []\n",
        "sns.set()\n",
        "\n",
        "for k in range(1, 100):\n",
        "    knn = KNeighborsClassifier(n_neighbors=k)\n",
        "    knn.fit(X_train, y_train)\n",
        "    accuracy_list.append(accuracy_score(y_test, knn.predict(X_test)))\n",
        "\n",
        "figure = plt.figure()\n",
        "ax = figure.add_subplot(111)\n",
        "ax.plot(range(1, 100), accuracy_list)\n",
        "ax.set_xlabel('k-nn')\n",
        "ax.set_ylabel('accuracy')\n",
        "plt.show()"
      ],
      "execution_count": 4,
      "outputs": [
        {
          "output_type": "display_data",
          "data": {
            "image/png": "[encoded data removed]",
            "text/plain": [
              "<Figure size 432x288 with 1 Axes>"
            ]
          },
          "metadata": {}
        }
      ]
    },
    {
      "cell_type": "markdown",
      "metadata": {
        "id": "9NOIxhv4rYC3"
      },
      "source": [
        "## **②スクラッチ**"
      ]
    },
    {
      "cell_type": "code",
      "metadata": {
        "colab": {
          "base_uri": "https://localhost:8080/"
        },
        "id": "-I2CDY1_rMWJ",
        "outputId": "c220b07c-2c47-404a-e47e-f27a1618cf84"
      },
      "source": [
        "from collections import Counter\n",
        "\n",
        "def knn(k, X_train, X_text, y_train, y_test):\n",
        "    prediction = []\n",
        "    \n",
        "    for test in X_test:\n",
        "        \n",
        "        # すべてのtrainとtestとの距離を計算したリストを作る\n",
        "        distances = [np.linalg.norm(train - test) for train in X_train]\n",
        "\n",
        "        # distancesの値が小さい順に並べた、trainのindexのリストを作る\n",
        "        sorted_train_indexes = np.argsort(distances)\n",
        "        \n",
        "        # testから近いk個のtrainのラベルを取り出す\n",
        "        sorted_k_labels = y_train[sorted_train_indexes][:k]\n",
        "        \n",
        "        # 最も数の多かったlabelを取り出す\n",
        "        pred = Counter(sorted_k_labels).most_common(1)[0][0]\n",
        "        prediction.append(pred)\n",
        "\n",
        "    return prediction\n",
        "\n",
        "prediction = knn(5, X_train, X_test, y_train, y_test)\n",
        "print(f\"accuracy_score:{accuracy_score(y_test, prediction)}\")"
      ],
      "execution_count": 5,
      "outputs": [
        {
          "output_type": "stream",
          "name": "stdout",
          "text": [
            "accuracy_score:0.9777777777777777\n"
          ]
        }
      ]
    }
  ]
}