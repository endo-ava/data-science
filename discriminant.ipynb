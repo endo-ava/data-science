{
  "nbformat": 4,
  "nbformat_minor": 0,
  "metadata": {
    "colab": {
      "name": "discriminant.ipynb",
      "provenance": [],
      "authorship_tag": "ABX9TyPGi3I6agQqhpROtO4dICvV",
      "include_colab_link": true
    },
    "kernelspec": {
      "name": "python3",
      "display_name": "Python 3"
    }
  },
  "cells": [
    {
      "cell_type": "markdown",
      "metadata": {
        "id": "view-in-github",
        "colab_type": "text"
      },
      "source": [
        "<a href=\"https://colab.research.google.com/github/er1152/data-science/blob/main/discriminant.ipynb\" target=\"_parent\"><img src=\"https://colab.research.google.com/assets/colab-badge.svg\" alt=\"Open In Colab\"/></a>"
      ]
    },
    {
      "cell_type": "code",
      "metadata": {
        "colab": {
          "base_uri": "https://localhost:8080/"
        },
        "id": "PAnS9vSw14tN",
        "outputId": "2c6688fc-dcff-43e8-8dc1-0b8786e303f4"
      },
      "source": [
        "import numpy as np\n",
        "x1=[72,69,57,69,60,69,54,66,51,66]\n",
        "x2=[42,72,57,30,60,18,27,9,45,33]\n",
        "mean1 = np.mean(x1)\n",
        "mean2 = np.mean(x2)\n",
        "mean12 = (mean1+mean2)/2\n",
        "sxx1 = sum((x1i - mean1)**2 for x1i in x1) #x1の平方和\n",
        "sxx2= sum((x2i - mean2)**2 for x2i in x2) #x2の平方和\n",
        "v12 = (sxx1+sxx2)/((len(x1)-1)+(len(x2)-1)) #x1とx2両方の分散\n",
        "\n",
        "def z(x):             #線形判別関数（>0で母数x1のグループ）\n",
        "  return ((mean1-mean2)/v12)*(x-mean12)\n",
        "\n",
        "def Mahalanobis1(x):         #Mahalanobis1 > Mahalanobis2 -> 母集団2に属する\n",
        "  return (x-mean1)**2/v12    #マハラノビス距離の二乗\n",
        "def Mahalanobis2(x):\n",
        "  return (x-mean2)**2/v12\n",
        "\n",
        "print(z(54))\n",
        "print(Mahalanobis1(54))\n",
        "print(Mahalanobis2(54))"
      ],
      "execution_count": 4,
      "outputs": [
        {
          "output_type": "stream",
          "text": [
            "0.2933454051607065\n",
            "0.3915346310547757\n",
            "0.9782254413761887\n"
          ],
          "name": "stdout"
        }
      ]
    },
    {
      "cell_type": "markdown",
      "metadata": {
        "id": "M_mQkOyZL3jC"
      },
      "source": [
        "Mahalanobis1 < Mahalanobis2 より、54は集合x1に属する"
      ]
    }
  ]
}