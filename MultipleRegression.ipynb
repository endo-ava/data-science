{
  "nbformat": 4,
  "nbformat_minor": 0,
  "metadata": {
    "colab": {
      "name": "MultipleRegression",
      "provenance": [],
      "collapsed_sections": [],
      "authorship_tag": "ABX9TyO0sn6yvo63Sszk5Qm4VJdd",
      "include_colab_link": true
    },
    "kernelspec": {
      "name": "python3",
      "display_name": "Python 3"
    }
  },
  "cells": [
    {
      "cell_type": "markdown",
      "metadata": {
        "id": "view-in-github",
        "colab_type": "text"
      },
      "source": [
        "<a href=\"https://colab.research.google.com/github/er1152/data-science/blob/main/MultipleRegression.ipynb\" target=\"_parent\"><img src=\"https://colab.research.google.com/assets/colab-badge.svg\" alt=\"Open In Colab\"/></a>"
      ]
    },
    {
      "cell_type": "code",
      "metadata": {
        "id": "VkGM7RyUrx9T"
      },
      "source": [
        "import numpy as np\n",
        "n = 8\n",
        "m = 3\n",
        "x = np.array([[5.5,12,6],[4.5,9,9],[4.1,8,6],[3.5,6,2],[2.5,5,8],[2.3,6,7],[2.7,5,2],[2.8,4,9]])\n",
        "y = np.array([[73],[59],[56],[31],[28],[31],[30],[25]])"
      ],
      "execution_count": 1,
      "outputs": []
    },
    {
      "cell_type": "code",
      "metadata": {
        "colab": {
          "base_uri": "https://localhost:8080/"
        },
        "id": "WfbS-fCtxSTs",
        "outputId": "c0e2d381-c42a-4de8-882a-9191998ba324"
      },
      "source": [
        "import statsmodels.api as sm \n",
        "x = sm.add_constant(x)\n",
        "\n",
        "#no.linalg.pinvは逆行列\n",
        "B = np.linalg.pinv(x.T @ x) @ x.T @ y\n",
        "\n",
        "#temp = np.dot(np.dot(np.linalg.pinv(np.dot(x.T, x)), x.T), y)\n",
        "B = B.T\n",
        "#それぞれ、切片、x1の項、x2...\n",
        "print(B)"
      ],
      "execution_count": 8,
      "outputs": [
        {
          "output_type": "stream",
          "text": [
            "[[-11.20329267   5.02847116   4.65285114   0.53928946]]\n"
          ],
          "name": "stdout"
        }
      ]
    },
    {
      "cell_type": "markdown",
      "metadata": {
        "id": "i-EHHGr0e_as"
      },
      "source": [
        "参考\n",
        "https://mathmatical22.xyz/2019/09/13/%E3%80%905%E5%88%86%E3%81%A7%E3%82%8F%E3%81%8B%E3%82%8B%E3%80%91%E9%87%8D%E5%9B%9E%E5%B8%B0%E5%88%86%E6%9E%90%E3%82%92%E3%82%8F%E3%81%8B%E3%82%8A%E3%82%84%E3%81%99%E3%81%8F%E7%B0%A1%E5%8D%98%E8%A7%A3/#anker15"
      ]
    },
    {
      "cell_type": "markdown",
      "metadata": {
        "id": "eQiMJV4Pnwp4"
      },
      "source": [
        "↑　numpyのみ\n",
        "↓　ライブラリ使用"
      ]
    },
    {
      "cell_type": "code",
      "metadata": {
        "id": "167le4mOnFFX",
        "colab": {
          "base_uri": "https://localhost:8080/"
        },
        "outputId": "4b90bcdf-e6ff-4174-895c-5bddd5daac43"
      },
      "source": [
        "import numpy as np\n",
        "import pandas as pd\n",
        "import matplotlib.pyplot as plt\n",
        "from sklearn import linear_model\n",
        "from sklearn.datasets import load_boston\n",
        "\n",
        "data = load_boston()\n",
        "data_df = pd.DataFrame(data, columns = data.feature_names)\n",
        "\n",
        "# 説明変数\n",
        "X = data.data\n",
        "# 目的変数\n",
        "Y = data.target\n",
        "\n",
        "model = linear_model.LinearRegression()\n",
        "model.fit(X,Y)\n",
        "\n",
        "#回帰係数\n",
        "model.coef_"
      ],
      "execution_count": 4,
      "outputs": [
        {
          "output_type": "execute_result",
          "data": {
            "text/plain": [
              "array([-1.08011358e-01,  4.64204584e-02,  2.05586264e-02,  2.68673382e+00,\n",
              "       -1.77666112e+01,  3.80986521e+00,  6.92224640e-04, -1.47556685e+00,\n",
              "        3.06049479e-01, -1.23345939e-02, -9.52747232e-01,  9.31168327e-03,\n",
              "       -5.24758378e-01])"
            ]
          },
          "metadata": {
            "tags": []
          },
          "execution_count": 4
        }
      ]
    },
    {
      "cell_type": "code",
      "metadata": {
        "colab": {
          "base_uri": "https://localhost:8080/",
          "height": 452
        },
        "id": "wBtD4NhRSx1O",
        "outputId": "422f14ab-72ea-4374-c68d-9df9f35fa32f"
      },
      "source": [
        "# 変数coefficientに係数の値を格納\n",
        "coefficient = model.coef_\n",
        "# データフレームに変換し、カラム名とインデックス名を指定\n",
        "df_coefficient = pd.DataFrame(coefficient,\n",
        "                              columns=[\"係数\"],\n",
        "                              index=[\"犯罪率\", \"宅地率\", \"製造業比率\", \"チャールズ川\", \"一酸化窒素濃度\", \n",
        "                                     \"平均室数\", \"持ち家率\", \"雇用センター\", \"幹線道路\", \"固定資産税率\", \n",
        "                                     \"生徒･教師比率\", \"黒人比率\", \"下層階級比率\"])\n",
        "df_coefficient"
      ],
      "execution_count": 5,
      "outputs": [
        {
          "output_type": "execute_result",
          "data": {
            "text/html": [
              "<div>\n",
              "<style scoped>\n",
              "    .dataframe tbody tr th:only-of-type {\n",
              "        vertical-align: middle;\n",
              "    }\n",
              "\n",
              "    .dataframe tbody tr th {\n",
              "        vertical-align: top;\n",
              "    }\n",
              "\n",
              "    .dataframe thead th {\n",
              "        text-align: right;\n",
              "    }\n",
              "</style>\n",
              "<table border=\"1\" class=\"dataframe\">\n",
              "  <thead>\n",
              "    <tr style=\"text-align: right;\">\n",
              "      <th></th>\n",
              "      <th>係数</th>\n",
              "    </tr>\n",
              "  </thead>\n",
              "  <tbody>\n",
              "    <tr>\n",
              "      <th>犯罪率</th>\n",
              "      <td>-0.108011</td>\n",
              "    </tr>\n",
              "    <tr>\n",
              "      <th>宅地率</th>\n",
              "      <td>0.046420</td>\n",
              "    </tr>\n",
              "    <tr>\n",
              "      <th>製造業比率</th>\n",
              "      <td>0.020559</td>\n",
              "    </tr>\n",
              "    <tr>\n",
              "      <th>チャールズ川</th>\n",
              "      <td>2.686734</td>\n",
              "    </tr>\n",
              "    <tr>\n",
              "      <th>一酸化窒素濃度</th>\n",
              "      <td>-17.766611</td>\n",
              "    </tr>\n",
              "    <tr>\n",
              "      <th>平均室数</th>\n",
              "      <td>3.809865</td>\n",
              "    </tr>\n",
              "    <tr>\n",
              "      <th>持ち家率</th>\n",
              "      <td>0.000692</td>\n",
              "    </tr>\n",
              "    <tr>\n",
              "      <th>雇用センター</th>\n",
              "      <td>-1.475567</td>\n",
              "    </tr>\n",
              "    <tr>\n",
              "      <th>幹線道路</th>\n",
              "      <td>0.306049</td>\n",
              "    </tr>\n",
              "    <tr>\n",
              "      <th>固定資産税率</th>\n",
              "      <td>-0.012335</td>\n",
              "    </tr>\n",
              "    <tr>\n",
              "      <th>生徒･教師比率</th>\n",
              "      <td>-0.952747</td>\n",
              "    </tr>\n",
              "    <tr>\n",
              "      <th>黒人比率</th>\n",
              "      <td>0.009312</td>\n",
              "    </tr>\n",
              "    <tr>\n",
              "      <th>下層階級比率</th>\n",
              "      <td>-0.524758</td>\n",
              "    </tr>\n",
              "  </tbody>\n",
              "</table>\n",
              "</div>"
            ],
            "text/plain": [
              "                係数\n",
              "犯罪率      -0.108011\n",
              "宅地率       0.046420\n",
              "製造業比率     0.020559\n",
              "チャールズ川    2.686734\n",
              "一酸化窒素濃度 -17.766611\n",
              "平均室数      3.809865\n",
              "持ち家率      0.000692\n",
              "雇用センター   -1.475567\n",
              "幹線道路      0.306049\n",
              "固定資産税率   -0.012335\n",
              "生徒･教師比率  -0.952747\n",
              "黒人比率      0.009312\n",
              "下層階級比率   -0.524758"
            ]
          },
          "metadata": {
            "tags": []
          },
          "execution_count": 5
        }
      ]
    },
    {
      "cell_type": "code",
      "metadata": {
        "id": "6qr456RIR1ze",
        "colab": {
          "base_uri": "https://localhost:8080/"
        },
        "outputId": "cedd9165-66aa-4a39-beab-90cc5a3812e1"
      },
      "source": [
        "#切片\n",
        "model.intercept_\n",
        "#決定係数\n",
        "model.score(X, Y)"
      ],
      "execution_count": 6,
      "outputs": [
        {
          "output_type": "execute_result",
          "data": {
            "text/plain": [
              "0.7406426641094095"
            ]
          },
          "metadata": {
            "tags": []
          },
          "execution_count": 6
        }
      ]
    },
    {
      "cell_type": "markdown",
      "metadata": {
        "id": "ZVLQ_9SWp9CF"
      },
      "source": [
        "参考\n",
        "https://qiita.com/y_itoh/items/aaa2056aac0c270ba7d2"
      ]
    }
  ]
}