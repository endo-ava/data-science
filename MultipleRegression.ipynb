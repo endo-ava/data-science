{
  "nbformat": 4,
  "nbformat_minor": 0,
  "metadata": {
    "colab": {
      "name": "MultipleRegression",
      "provenance": [],
      "collapsed_sections": [],
      "authorship_tag": "ABX9TyOLyHWMNc7LcuDbIm+18WIi"
    },
    "kernelspec": {
      "name": "python3",
      "display_name": "Python 3"
    }
  },
  "cells": [
    {
      "cell_type": "markdown",
      "metadata": {
        "id": "diRbduEfj_IX"
      },
      "source": [
        "## **回帰分析（regression）とは**\n",
        "統計学において、連続尺度の従属変数（目的変数）Y と独立変数（説明変数）X の間にモデルを当てはめること。X が1次元ならば単回帰、X が2次元以上ならば重回帰と言う。（wikipedia）\n",
        "### 正規方程式の簡単な導出\n",
        "残差平方和\n",
        "$$f(a) = \\sum_{j=1}^{m}(y_j-\\sum_{i=1}^{n}a_i x_{ji})^2\\tag{1}$$\n",
        "を最小にするaを求める\n",
        "\n",
        "fは{$a_1,…,a_n$}の二次の関数になるため，f(a)を{$a_1,…,a_n$}のそれぞれで偏微分した結果\n",
        "$$\\frac{∂f}{∂a_k}=-2\\sum_{j=1}^{m}x_{j,k}(y_j-\\sum_{i=1}^{n}a_ix_{ji})\\tag{2}　(kは1≤k≤nを満たす整数) $$\n",
        "\n",
        "がすべて0になるときf(a)は最小値をとる\n",
        "\n",
        "(2)の右辺=0としてなんやかんやすると\n",
        "$$X^Ty=X^TXa$$\n",
        "つまり\n",
        "$$a = (X^TX)^{-1}X^Ty      （正規方程式）$$\n"
      ]
    },
    {
      "cell_type": "markdown",
      "metadata": {
        "id": "bwsLJ68StSeb"
      },
      "source": [
        "## **sklearn未使用**"
      ]
    },
    {
      "cell_type": "code",
      "metadata": {
        "id": "VkGM7RyUrx9T",
        "colab": {
          "base_uri": "https://localhost:8080/"
        },
        "outputId": "44e9849b-0a6c-47a1-de2e-056d5b5f0183"
      },
      "source": [
        "import numpy as np\n",
        "import pandas as pd\n",
        "boston = load_boston()\n",
        "model = linear_model.LinearRegression()\n",
        "\n",
        "X = boston.data\n",
        "y = boston.target\n",
        "print(X.shape)\n",
        "y = y.reshape(506,1)\n",
        "\n",
        "#X = np.array([[5.5,12,6],[4.5,9,9],[4.1,8,6],[3.5,6,2],[2.5,5,8],[2.3,6,7],[2.7,5,2],[2.8,4,9]])\n",
        "#y = np.array([[73],[59],[56],[31],[28],[31],[30],[25]])"
      ],
      "execution_count": 39,
      "outputs": [
        {
          "output_type": "stream",
          "name": "stdout",
          "text": [
            "(506, 13)\n"
          ]
        }
      ]
    },
    {
      "cell_type": "code",
      "metadata": {
        "colab": {
          "base_uri": "https://localhost:8080/"
        },
        "id": "WfbS-fCtxSTs",
        "outputId": "ddcf82da-242c-4d9f-a269-3dc768721f56"
      },
      "source": [
        "import statsmodels.api as sm \n",
        "X = sm.add_constant(X)\n",
        "\n",
        "#正規方程式を計算\n",
        "a = np.linalg.pinv(X.T @ X) @ X.T @ y\n",
        "\n",
        "#それぞれ、切片、x1の項、x2...\n",
        "print(a.T)"
      ],
      "execution_count": 41,
      "outputs": [
        {
          "output_type": "stream",
          "name": "stdout",
          "text": [
            "[[ 3.64594884e+01 -1.08011358e-01  4.64204584e-02  2.05586264e-02\n",
            "   2.68673382e+00 -1.77666112e+01  3.80986521e+00  6.92224641e-04\n",
            "  -1.47556685e+00  3.06049479e-01 -1.23345939e-02 -9.52747232e-01\n",
            "   9.31168327e-03 -5.24758378e-01]]\n"
          ]
        }
      ]
    },
    {
      "cell_type": "markdown",
      "metadata": {
        "id": "eQiMJV4Pnwp4"
      },
      "source": [
        "## **sklearn使用**"
      ]
    },
    {
      "cell_type": "code",
      "metadata": {
        "id": "167le4mOnFFX",
        "colab": {
          "base_uri": "https://localhost:8080/"
        },
        "outputId": "bc9ee4b6-5f3e-45e5-c3df-6dbfe2879d98"
      },
      "source": [
        "import numpy as np\n",
        "import pandas as pd\n",
        "from sklearn import linear_model\n",
        "from sklearn.datasets import load_boston\n",
        "\n",
        "boston = load_boston()\n",
        "model = linear_model.LinearRegression()\n",
        "\n",
        "X = boston.data\n",
        "y = boston.target\n",
        "\n",
        "model.fit(X,y)\n",
        "\n",
        "pred_y = model.predict(X)\n",
        "\n",
        "print(f\"切片：{model.intercept_}\")\n",
        "print(f\"回帰係数：{model.coef_}\")"
      ],
      "execution_count": 45,
      "outputs": [
        {
          "output_type": "stream",
          "name": "stdout",
          "text": [
            "切片：36.459488385090125\n",
            "回帰係数：[-1.08011358e-01  4.64204584e-02  2.05586264e-02  2.68673382e+00\n",
            " -1.77666112e+01  3.80986521e+00  6.92224640e-04 -1.47556685e+00\n",
            "  3.06049479e-01 -1.23345939e-02 -9.52747232e-01  9.31168327e-03\n",
            " -5.24758378e-01]\n"
          ]
        }
      ]
    },
    {
      "cell_type": "code",
      "metadata": {
        "id": "6qr456RIR1ze",
        "colab": {
          "base_uri": "https://localhost:8080/",
          "height": 422
        },
        "outputId": "2005d8ec-de39-4b4a-e717-f35bf6e733cb"
      },
      "source": [
        "#グラフ\n",
        "import matplotlib.pyplot as plt\n",
        "plt.figure(figsize=(6,6))\n",
        "plt.scatter(y, pred_y,color='blue',alpha=0.3)\n",
        "plt.xlabel('observed')\n",
        "plt.ylabel('predicted')\n",
        "plt.legend(loc='best')\n",
        "plt.title('yyplot')\n",
        "plt.show()\n"
      ],
      "execution_count": 50,
      "outputs": [
        {
          "output_type": "stream",
          "name": "stderr",
          "text": [
            "No handles with labels found to put in legend.\n"
          ]
        },
        {
          "output_type": "display_data",
          "data": {
            "image/png": "[encoded data removed]",
            "text/plain": [
              "<Figure size 432x432 with 1 Axes>"
            ]
          },
          "metadata": {
            "needs_background": "light"
          }
        }
      ]
    }
  ]
}