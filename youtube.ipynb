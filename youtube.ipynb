{
  "nbformat": 4,
  "nbformat_minor": 0,
  "metadata": {
    "colab": {
      "name": "youtube.ipynb",
      "provenance": [],
      "authorship_tag": "ABX9TyOMDW6nZnY9AmbL1oOAhaZW"
    },
    "kernelspec": {
      "name": "python3",
      "display_name": "Python 3"
    },
    "language_info": {
      "name": "python"
    }
  },
  "cells": [
    {
      "cell_type": "code",
      "metadata": {
        "id": "z78lS_h8g0xK"
      },
      "source": [
        "from googleapiclient.discovery import build\n",
        "import pandas as pd\n",
        "pd.set_option('display.max_rows', None)\n",
        "\n",
        "API_KEY = \"\"\n",
        "CHANNEL= \"\"\n",
        "youtube = build(\"youtube\", \"v3\", developerKey=API_KEY)\n",
        "num=80  # (num * 5)個動画が取得できる\n",
        "    \n",
        "def get_video_info(part,channelId,order,type,num):\n",
        "    dic_list = []\n",
        "    search_response = youtube.search().list(part=part,channelId=CHANNEL,order=order,type=type)\n",
        "    output = youtube.search().list(part=part,channelId=channelId,order=order,type=type).execute()\n",
        "\n",
        "    for i in range(num):\n",
        "        dic_list = dic_list + output[\"items\"]\n",
        "        search_response = youtube.search().list_next(search_response,output)\n",
        "        output = search_response.execute()\n",
        "\n",
        "    df = pd.DataFrame(dic_list)\n",
        "    return df\n",
        "    #各動画毎に一意のvideoIdを取得\n",
        "\n",
        "def get_statistics(id):\n",
        "    statistics = youtube.videos().list(part = 'statistics', id = id).execute()\n",
        "    return statistics['items'][0]['statistics']\n",
        "\n",
        "#searchでとってきた動画のsnippet\n",
        "df = get_video_info(part='snippet',channelId=CHANNEL,order='viewCount',type='video',num=num)\n",
        "#dfからvideoIdをまとめたデータ\n",
        "df1 = pd.DataFrame(list(df[\"id\"]))[\"videoId\"]\n",
        "#dfからpublishedAtとtitleをまとめたデータ\n",
        "df2 = pd.DataFrame(list(df['snippet']))[[\"publishedAt\",'title']]\n",
        "#df1とdf2を結合\n",
        "ddf = pd.concat([df1,df2], axis = 1)\n",
        "#df1のidを使って動画のstatisticsを集めたデータ\n",
        "df_static = pd.DataFrame(list(df1.apply(lambda x : get_statistics(x))))\n",
        "\n",
        "df_output = pd.concat([ddf,df_static], axis = 1)\n",
        "\n",
        "df_output\n"
      ],
      "execution_count": null,
      "outputs": []
    },
    {
      "cell_type": "markdown",
      "metadata": {
        "id": "As5lpU3RhYfr"
      },
      "source": [
        "参考\n",
        "\n",
        "https://qiita.com/g-k/items/7c98efe21257afac70e9"
      ]
    },
    {
      "cell_type": "code",
      "metadata": {
        "id": "v8alGutChk0X"
      },
      "source": [
        "df_output.to_csv(\"xxx.csv\")"
      ],
      "execution_count": null,
      "outputs": []
    }
  ]
}