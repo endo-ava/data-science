{
  "nbformat": 4,
  "nbformat_minor": 0,
  "metadata": {
    "colab": {
      "name": "統計備忘録.ipynb",
      "provenance": [],
      "authorship_tag": "ABX9TyMs1w01Dr0yeCyiesJPswHS"
    },
    "kernelspec": {
      "name": "python3",
      "display_name": "Python 3"
    }
  },
  "cells": [
    {
      "cell_type": "markdown",
      "metadata": {
        "id": "Y46KTveCy1P8"
      },
      "source": [
        "統計基礎の内容をライブラリ未使用とライブラリ使用でメモ"
      ]
    },
    {
      "cell_type": "code",
      "metadata": {
        "colab": {
          "base_uri": "https://localhost:8080/"
        },
        "id": "zcxE-FAHuqHO",
        "outputId": "2880c450-5964-436d-e98f-af345b6d52a4"
      },
      "source": [
        "import numpy as np\n",
        "x = np.array([72,69,57,69,60,69,54,66,51,66])\n",
        "y = np.array([42,72,57,30,60,18,27,9,45,33])\n",
        "#平均\n",
        "mean_x = sum(x)/len(x)\n",
        "mean_y = sum(y)/len(y)\n",
        "np.mean(x)\n",
        "#分散\n",
        "var_x = sum((xi - mean_x)**2 for xi in x) / len(x) \n",
        "var_y = sum((yi - mean_y)**2 for yi in y) / len(y) \n",
        "np.var(x)\n",
        "#標準偏差\n",
        "std_x = var_x**(1/2)\n",
        "std_y = var_y**(1/2)\n",
        "np.std(x) \n",
        "#共分散(標本ならn-1、母集団ならnで割る)\n",
        "var_xy = sum((xi - mean_x)*(yi - mean_y) for xi,yi in zip(x,y)) / len(x)\n",
        "np.cov(x,y,ddof=0)   #ddof=自由度\n",
        "#相関係数\n",
        "coef_xy = var_xy/(std_x*std_y)\n",
        "np.corrcoef(x, y)"
      ],
      "execution_count": 2,
      "outputs": [
        {
          "output_type": "execute_result",
          "data": {
            "text/plain": [
              "array([[ 1.        , -0.15407971],\n",
              "       [-0.15407971,  1.        ]])"
            ]
          },
          "metadata": {
            "tags": []
          },
          "execution_count": 2
        }
      ]
    },
    {
      "cell_type": "code",
      "metadata": {
        "id": "8bYv8-Zlj2U9",
        "colab": {
          "base_uri": "https://localhost:8080/"
        },
        "outputId": "80246d1c-7f3c-4e55-d462-d1368ed6ea6a"
      },
      "source": [
        "#データの標準化(平均0分散1に変換)\n",
        "from sklearn.preprocessing import StandardScaler\n",
        "data = np.array([72,69,57,69,60,69,54,66,51,66])\n",
        "\n",
        "standard_data = np.array(list(map(lambda x: (x-data.mean())/data.std(),data)))  #ライブラリ未使用\n",
        "\n",
        "ss = StandardScaler()\n",
        "standard_data2 = ss.fit_transform(data.reshape(-1, 1)) #ライブラリ使用\n",
        "\n",
        "print(standard_data)\n",
        "print(standard_data2)"
      ],
      "execution_count": 19,
      "outputs": [
        {
          "output_type": "stream",
          "text": [
            "[ 1.26086957  0.82608696 -0.91304348  0.82608696 -0.47826087  0.82608696\n",
            " -1.34782609  0.39130435 -1.7826087   0.39130435]\n",
            "[[ 1.26086957]\n",
            " [ 0.82608696]\n",
            " [-0.91304348]\n",
            " [ 0.82608696]\n",
            " [-0.47826087]\n",
            " [ 0.82608696]\n",
            " [-1.34782609]\n",
            " [ 0.39130435]\n",
            " [-1.7826087 ]\n",
            " [ 0.39130435]]\n"
          ],
          "name": "stdout"
        }
      ]
    },
    {
      "cell_type": "code",
      "metadata": {
        "colab": {
          "base_uri": "https://localhost:8080/"
        },
        "id": "G5bN5xEukRSt",
        "outputId": "0abf5521-7a09-4759-d8ba-cac86f0fca28"
      },
      "source": [
        "#相関行列\n",
        "z = np.array([[2,5,8,],[1,5,2,],[9,4,10],[7,13,4]])\n",
        "C = np.corrcoef(z)\n",
        "print(C)"
      ],
      "execution_count": 44,
      "outputs": [
        {
          "output_type": "stream",
          "text": [
            "[[ 1.          0.24019223  0.15554275 -0.32732684]\n",
            " [ 0.24019223  1.         -0.92155064  0.83862787]\n",
            " [ 0.15554275 -0.92155064  1.         -0.98432414]\n",
            " [-0.32732684  0.83862787 -0.98432414  1.        ]]\n"
          ],
          "name": "stdout"
        }
      ]
    }
  ]
}